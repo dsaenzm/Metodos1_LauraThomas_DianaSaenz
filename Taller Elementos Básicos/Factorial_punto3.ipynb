{
  "nbformat": 4,
  "nbformat_minor": 0,
  "metadata": {
    "colab": {
      "name": "Untitled0.ipynb",
      "provenance": []
    },
    "kernelspec": {
      "name": "python3",
      "display_name": "Python 3"
    },
    "language_info": {
      "name": "python"
    }
  },
  "cells": [
    {
      "cell_type": "code",
      "execution_count": 2,
      "metadata": {
        "colab": {
          "base_uri": "https://localhost:8080/"
        },
        "id": "3LWLWqykdHaL",
        "outputId": "333f5d1e-08ba-41c7-cf22-f4663226aa65"
      },
      "outputs": [
        {
          "output_type": "stream",
          "name": "stdout",
          "text": [
            "2432902008176640000\n",
            "120\n",
            "705432\n",
            "352716\n"
          ]
        }
      ],
      "source": [
        "#3.Números factoriales\n",
        "\n",
        "#3.1\n",
        "def calcular_factorial(n:int)->int:\n",
        "    if n<0:\n",
        "        n=None\n",
        "    else:\n",
        "        if n==0:\n",
        "            n=1\n",
        "        for i in range(n-1,1,-1):\n",
        "            n=n*i       \n",
        "    return int(n)\n",
        "\n",
        "#Calcular los 20 primeros números factoriales\n",
        "n=20\n",
        "print(calcular_factorial(n))\n",
        "\n",
        "#3.2\n",
        "def variaciones_sin_rep(n:int,r:int)->int:\n",
        "    #n!/(n-r)!\n",
        "    ans = calcular_factorial(n)/calcular_factorial(n-r)\n",
        "    return int(ans)\n",
        "\n",
        "#Calcular de cuántas maneras se puede ubicar 6 carros en 3 estacionamientos\n",
        "n=6\n",
        "r=3\n",
        "print(variaciones_sin_rep(n, r))\n",
        "\n",
        "\n",
        "#3.3\n",
        "def combinaciones_sin_rep(n:int,m:int)->int:\n",
        "    #n!/m!(n-m)!\n",
        "    ans = calcular_factorial(n)/(calcular_factorial(m)*calcular_factorial(n-m))\n",
        "    return int(ans)\n",
        "\n",
        "#Equipos de 11 jugadores con 22 jugadores disponibles\n",
        "\n",
        "#Cualquiera puede ser el arquero\n",
        "n=22\n",
        "m=11\n",
        "print(combinaciones_sin_rep(n, m))\n",
        "\n",
        "#Ya se sabe quien es el arquero\n",
        "n=21\n",
        "m=10\n",
        "print(combinaciones_sin_rep(n, m))"
      ]
    }
  ]
}