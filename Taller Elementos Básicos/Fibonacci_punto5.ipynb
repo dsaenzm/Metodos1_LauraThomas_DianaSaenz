{
  "nbformat": 4,
  "nbformat_minor": 0,
  "metadata": {
    "colab": {
      "name": "Fibonacci_punto5.ipynb",
      "provenance": []
    },
    "kernelspec": {
      "name": "python3",
      "display_name": "Python 3"
    },
    "language_info": {
      "name": "python"
    }
  },
  "cells": [
    {
      "cell_type": "code",
      "execution_count": 1,
      "metadata": {
        "colab": {
          "base_uri": "https://localhost:8080/",
          "height": 347
        },
        "id": "iDaRKUZLtoM5",
        "outputId": "519cfe30-c7a9-4016-8d32-aed6d5002a9d"
      },
      "outputs": [
        {
          "output_type": "stream",
          "name": "stdout",
          "text": [
            "Serie Fibonacci con 20 términos:\n",
            " [0, 1, 1, 2, 3, 5, 8, 13, 21, 34, 55, 89, 144, 233, 377, 610, 987, 1597, 2584, 4181]\n",
            "1.618033988749895\n"
          ]
        },
        {
          "output_type": "display_data",
          "data": {
            "text/plain": [
              "<Figure size 432x288 with 1 Axes>"
            ],
            "image/png": "[encoded data removed]"
          },
          "metadata": {
            "needs_background": "light"
          }
        }
      ],
      "source": [
        "#Sucesión de Fibonacci\n",
        "\n",
        "import pandas as pd\n",
        "import numpy as np\n",
        "import matplotlib.pyplot as plt\n",
        "\n",
        "def fibonacci(x_terms:int)->int:\n",
        "    i=0\n",
        "    \n",
        "    f0 = 0\n",
        "    f1 = 1\n",
        "    \n",
        "    serie = []\n",
        "    \n",
        "    if x_terms == 1:\n",
        "            serie.append(f0)\n",
        "    \n",
        "    else:\n",
        "        while i < x_terms:\n",
        "            serie.append(f0)\n",
        "            fn = f0+f1\n",
        "            f0 = f1\n",
        "            f1 = fn\n",
        "            \n",
        "            i+=1\n",
        "            \n",
        "    return serie\n",
        "\n",
        "#Encontrar los primeros 20 términos de la sucesión\n",
        "x_terms = 20\n",
        "serie = fibonacci(x_terms)\n",
        "print(\"Serie Fibonacci con\", x_terms,\"términos:\\n\", serie)\n",
        "\n",
        "\n",
        "#Gráficar la sucesión\n",
        "\n",
        "b = serie\n",
        "a = list(range(1, len(b)+1))\n",
        "\n",
        "sucesion=pd.Series(b, index=a)\n",
        "sucesion.plot(xlabel=\"n términos\", ylabel=\"Serie\", title=\"Serie Fibonacci de 20 términos\")\n",
        "plt.show\n",
        "\n",
        "# Calcular Número áureo\n",
        "x=1\n",
        "y=1\n",
        "\n",
        "for i in range(100000):\n",
        "    y2 = y + x\n",
        "    x2 = y\n",
        "    y = y2\n",
        "    x = x2\n",
        "\n",
        "numero_aureo = y/x\n",
        "\n",
        "print(numero_aureo)"
      ]
    }
  ]
}