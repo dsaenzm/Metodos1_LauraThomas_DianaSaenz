{
  "nbformat": 4,
  "nbformat_minor": 0,
  "metadata": {
    "colab": {
      "name": "Lissajous_punto5.ipynb",
      "provenance": []
    },
    "kernelspec": {
      "name": "python3",
      "display_name": "Python 3"
    },
    "language_info": {
      "name": "python"
    }
  },
  "cells": [
    {
      "cell_type": "code",
      "execution_count": null,
      "metadata": {
        "id": "Hodwl15IUPcF"
      },
      "outputs": [],
      "source": [
        "#5.3 Figura de Lissajous\n",
        "#En este ejercicio, las figuras para los desfases donde phi = [0, pi/4 , pi/2] aparecen en una sola\n",
        "import numpy as np\n",
        "import matplotlib.pyplot as plt\n",
        "\n",
        "phi = [0 , np.pi/4 , np.pi/2]\n",
        "theta = np.linspace(0 , 2*np.pi, 100)\n",
        "\n",
        "for j in range(0,3):\n",
        "  for i in range(1,6):\n",
        "    for k in range(1,6):\n",
        "      if k >= i:\n",
        "\n",
        "        y = np.sin(k*theta + phi[j])\n",
        "        x = np.sin(i*theta)\n",
        "        fig = plt.subplot(6, 5, i*5 + k)\n",
        "        k += 1\n",
        "        plt.axis(\"off\")\n",
        "        plt.plot(x,y)"
      ]
    }
  ]
}