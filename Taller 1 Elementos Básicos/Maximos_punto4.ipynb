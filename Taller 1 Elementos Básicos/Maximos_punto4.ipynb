{
  "nbformat": 4,
  "nbformat_minor": 0,
  "metadata": {
    "colab": {
      "name": "Untitled2.ipynb",
      "provenance": []
    },
    "kernelspec": {
      "name": "python3",
      "display_name": "Python 3"
    },
    "language_info": {
      "name": "python"
    }
  },
  "cells": [
    {
      "cell_type": "code",
      "execution_count": null,
      "metadata": {
        "id": "GgEYiSpwnHH8"
      },
      "outputs": [],
      "source": [
        "#Este código tiene en cuenta el archivo de texto \"EstrellaEspectro.txt\". Se necesita para que el código corra con normalidad\n",
        "def cargar_datos(ruta:str)->dict:\n",
        "    datos = {}\n",
        "    \n",
        "    archivo = open(ruta, \"r\", encoding=\"utf-8\")\n",
        "    line = archivo.readline()\n",
        "    \n",
        "    while len(line) > 0:\n",
        "        datos_line = line.split(\"  \")\n",
        "        datos[float(datos_line[0])] = float(datos_line[1])\n",
        "        \n",
        "        line = archivo.readline()\n",
        "        \n",
        "    return datos\n",
        "\n",
        "\n",
        "def maximos(datos:dict)->list:\n",
        "    maximos = []\n",
        "    datos_y = []\n",
        "    \n",
        "    for i in datos.values():\n",
        "        datos_y.append(i)\n",
        "    \n",
        "    for i in range(0,len(datos_y)):\n",
        "        if i==0:\n",
        "            if datos_y[i] > datos_y[i+1]:\n",
        "                maximos.append(datos_y[i])\n",
        "        elif i==len(datos_y)-1:\n",
        "            if datos_y[i] > datos_y[i-1]:\n",
        "                maximos.append(datos_y[i])\n",
        "        else:\n",
        "            if datos_y[i] > datos_y[i-1] and datos_y[i]>datos_y[i+1]:\n",
        "                maximos.append(datos_y[i])\n",
        "\n",
        "    return maximos\n",
        "\n",
        "\n",
        "datos = cargar_datos(\"EstrellaEspectro.txt\")\n",
        "maximos = maximos(datos)\n",
        "print(maximos)"
      ]
    }
  ]
}