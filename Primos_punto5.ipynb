{
  "nbformat": 4,
  "nbformat_minor": 0,
  "metadata": {
    "colab": {
      "name": "Untitled4.ipynb",
      "provenance": []
    },
    "kernelspec": {
      "name": "python3",
      "display_name": "Python 3"
    },
    "language_info": {
      "name": "python"
    }
  },
  "cells": [
    {
      "cell_type": "code",
      "source": [
        ""
      ],
      "metadata": {
        "id": "MvTOe0xuvVQG"
      },
      "execution_count": null,
      "outputs": []
    },
    {
      "cell_type": "code",
      "execution_count": 1,
      "metadata": {
        "id": "bxci0OnwurKt",
        "colab": {
          "base_uri": "https://localhost:8080/",
          "height": 521
        },
        "outputId": "c30e1bb0-6937-4cdb-f967-d6a3999bf30c"
      },
      "outputs": [
        {
          "output_type": "stream",
          "name": "stdout",
          "text": [
            "\n",
            "Primeros 10 números primos:\n",
            "2\n",
            "3\n",
            "5\n",
            "7\n",
            "11\n",
            "13\n",
            "17\n",
            "19\n",
            "23\n",
            "29\n"
          ]
        },
        {
          "output_type": "execute_result",
          "data": {
            "text/plain": [
              "<function matplotlib.pyplot.show(*args, **kw)>"
            ]
          },
          "metadata": {},
          "execution_count": 1
        },
        {
          "output_type": "display_data",
          "data": {
            "text/plain": [
              "<Figure size 432x288 with 1 Axes>"
            ],
            "image/png": "[encoded data removed]"
          },
          "metadata": {
            "needs_background": "light"
          }
        }
      ],
      "source": [
        "import pandas as pd\n",
        "import numpy as np\n",
        "import matplotlib.pyplot as plt\n",
        "\n",
        "def es_primo(numero:int)->bool:\n",
        "    divisores = 0\n",
        "    \n",
        "    for i in range (1, numero):\n",
        "        if numero%i == 0:\n",
        "            divisores += 1\n",
        "    \n",
        "    if divisores == 1:\n",
        "        primo = True\n",
        "    else:\n",
        "        primo = False\n",
        "    \n",
        "    return primo\n",
        "\n",
        "def lista_primos(n:int):\n",
        "    n_primos = []\n",
        "    i = 0\n",
        "    x = 0\n",
        "    \n",
        "    while i < n:\n",
        "        primo = es_primo(x)\n",
        "        \n",
        "        if primo == True:\n",
        "            n_primos.append(x)\n",
        "            i += 1\n",
        "        x += 1\n",
        "        \n",
        "    return n_primos\n",
        "\n",
        "#5.1.1 Calcular primeros 1000 numeros primos\n",
        "n = 1000\n",
        "n_primos = lista_primos(n)\n",
        "\n",
        "\n",
        "def num_primos(n:int):\n",
        "    n_primos = lista_primos(n)\n",
        "    \n",
        "    for i in n_primos:\n",
        "        print(i)\n",
        "\n",
        "#5.1.2 Imprimir los 10 números primos\n",
        "n = 10\n",
        "print(\"\\nPrimeros\",n ,\"números primos:\")\n",
        "num_primos(n)\n",
        "\n",
        "\n",
        "# 5.1.3 Graficar números primos a función de su posición\n",
        "\n",
        "y = n_primos\n",
        "x = list(range(1, len(y)+1))\n",
        "\n",
        "primos=pd.Series(y, index=x)\n",
        "primos.plot(xlabel=\"n término\", ylabel=\"número primo\", title=\"Primeros 1000 números primos\")\n",
        "plt.show"
      ]
    }
  ]
}